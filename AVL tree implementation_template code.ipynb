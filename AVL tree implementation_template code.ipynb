{
 "cells": [
  {
   "cell_type": "code",
   "execution_count": 290,
   "metadata": {},
   "outputs": [],
   "source": [
    "# AVL insertion: 1. insert as in simple BST, 2. work your way up tree, restoring AVL property (and update heights as you go)\n",
    "# height of leaf: start from 0 at bottom level (null leave is -1) AVL tree will have p-c height diff no greater than +/- 1\n",
    "# detail each step: suppose x is lowest node violating AVL\n",
    "                    # assume x is rigth-heavy(left case symemetric) (by checking from the bottom inserted, the height of the leaf)\n",
    "                    # if x's right child is right heavy or balanced: two in a row, then rotate at the root top (2)\n",
    "                    # else(zig-zag): do double rotation, first rotate(1) then same as above (2)"
   ]
  },
  {
   "cell_type": "code",
   "execution_count": 291,
   "metadata": {},
   "outputs": [],
   "source": [
    "# 1. fix tree into AVL from a possible unbalanced BST (difficult to do as it is hard to find a bottom leaf after BST finished)\n",
    "# 2. maintain AVL tree while addition/ insertion (chosen here)"
   ]
  },
  {
   "cell_type": "code",
   "execution_count": 413,
   "metadata": {},
   "outputs": [
    {
     "name": "stdout",
     "output_type": "stream",
     "text": [
      "Preorder traversal of the constructed AVL tree is\n",
      "30 20 10 25 40 50 \n"
     ]
    }
   ],
   "source": [
    "# Python code to insert a node in AVL tree \n",
    "  \n",
    "# Generic tree node class \n",
    "class TreeNode(object): \n",
    "    def __init__(self, val): \n",
    "        self.val = val \n",
    "        self.left = None\n",
    "        self.right = None\n",
    "        self.height = 1\n",
    "  \n",
    "# AVL tree class which supports the  \n",
    "# Insert operation \n",
    "class AVL_Tree(object): \n",
    "  \n",
    "    # Recursive function to insert key in  \n",
    "    # subtree rooted with node and returns \n",
    "    # new root of subtree. \n",
    "    def insert(self, root, key): \n",
    "      \n",
    "        # Step 1 - Perform normal BST \n",
    "        if not root: \n",
    "            return TreeNode(key) \n",
    "        elif key < root.val: \n",
    "            root.left = self.insert(root.left, key) \n",
    "        else: \n",
    "            root.right = self.insert(root.right, key) \n",
    "  \n",
    "        # Step 2 - Update the height of the  \n",
    "        # ancestor node \n",
    "        root.height = 1 + max(self.getHeight(root.left), \n",
    "                           self.getHeight(root.right)) \n",
    "  \n",
    "        # Step 3 - Get the balance factor \n",
    "        balance = self.getBalance(root) \n",
    "  \n",
    "        # Step 4 - If the node is unbalanced,  \n",
    "        # then try out the 4 cases \n",
    "        # Case 1 - Left Left \n",
    "        if balance > 1 and key < root.left.val: \n",
    "            return self.rightRotate(root) \n",
    "  \n",
    "        # Case 2 - Right Right \n",
    "        if balance < -1 and key > root.right.val: \n",
    "            return self.leftRotate(root) \n",
    "  \n",
    "        # Case 3 - Left Right \n",
    "        if balance > 1 and key > root.left.val: \n",
    "            root.left = self.leftRotate(root.left) \n",
    "            return self.rightRotate(root) \n",
    "  \n",
    "        # Case 4 - Right Left \n",
    "        if balance < -1 and key < root.right.val: \n",
    "            root.right = self.rightRotate(root.right) \n",
    "            return self.leftRotate(root) \n",
    "  \n",
    "        return root \n",
    "  \n",
    "    def leftRotate(self, z): \n",
    "  \n",
    "        y = z.right \n",
    "        T2 = y.left \n",
    "  \n",
    "        # Perform rotation \n",
    "        y.left = z \n",
    "        z.right = T2 \n",
    "  \n",
    "        # Update heights \n",
    "        z.height = 1 + max(self.getHeight(z.left), \n",
    "                         self.getHeight(z.right)) \n",
    "        y.height = 1 + max(self.getHeight(y.left), \n",
    "                         self.getHeight(y.right)) \n",
    "  \n",
    "        # Return the new root \n",
    "        return y \n",
    "  \n",
    "    def rightRotate(self, z): \n",
    "  \n",
    "        y = z.left \n",
    "        T3 = y.right \n",
    "  \n",
    "        # Perform rotation \n",
    "        y.right = z \n",
    "        z.left = T3 \n",
    "  \n",
    "        # Update heights \n",
    "        z.height = 1 + max(self.getHeight(z.left), \n",
    "                        self.getHeight(z.right)) \n",
    "        y.height = 1 + max(self.getHeight(y.left), \n",
    "                        self.getHeight(y.right)) \n",
    "  \n",
    "        # Return the new root \n",
    "        return y \n",
    "  \n",
    "    def getHeight(self, root): \n",
    "        if not root: \n",
    "            return 0\n",
    "  \n",
    "        return root.height \n",
    "  \n",
    "    def getBalance(self, root): \n",
    "        if not root: \n",
    "            return 0\n",
    "  \n",
    "        return self.getHeight(root.left) - self.getHeight(root.right) \n",
    "  \n",
    "    def preOrder(self, root): \n",
    "  \n",
    "        if not root: \n",
    "            return\n",
    "  \n",
    "        print(\"{0} \".format(root.val), end=\"\") \n",
    "        self.preOrder(root.left) \n",
    "        self.preOrder(root.right) \n",
    "  \n",
    "  \n",
    "# Driver program to test above function \n",
    "myTree = AVL_Tree() \n",
    "root = None\n",
    "  \n",
    "root = myTree.insert(root, 10) \n",
    "root = myTree.insert(root, 20) \n",
    "root = myTree.insert(root, 30) \n",
    "root = myTree.insert(root, 40) \n",
    "root = myTree.insert(root, 50) \n",
    "root = myTree.insert(root, 25) \n",
    "  \n",
    "\"\"\"The constructed AVL Tree would be \n",
    "            30 \n",
    "           /  \\ \n",
    "         20   40 \n",
    "        /  \\     \\ \n",
    "       10  25    50\"\"\"\n",
    "  \n",
    "# Preorder Traversal \n",
    "print(\"Preorder traversal of the\", \n",
    "      \"constructed AVL tree is\") \n",
    "myTree.preOrder(root) \n",
    "print() \n",
    "  \n",
    "# This code is contributed by Ajitesh Pathak "
   ]
  },
  {
   "cell_type": "code",
   "execution_count": null,
   "metadata": {},
   "outputs": [],
   "source": []
  },
  {
   "cell_type": "code",
   "execution_count": null,
   "metadata": {},
   "outputs": [],
   "source": []
  },
  {
   "cell_type": "code",
   "execution_count": null,
   "metadata": {},
   "outputs": [],
   "source": []
  },
  {
   "cell_type": "code",
   "execution_count": null,
   "metadata": {},
   "outputs": [],
   "source": []
  },
  {
   "cell_type": "code",
   "execution_count": null,
   "metadata": {},
   "outputs": [],
   "source": []
  },
  {
   "cell_type": "code",
   "execution_count": null,
   "metadata": {},
   "outputs": [],
   "source": []
  },
  {
   "cell_type": "code",
   "execution_count": null,
   "metadata": {},
   "outputs": [],
   "source": []
  },
  {
   "cell_type": "code",
   "execution_count": null,
   "metadata": {},
   "outputs": [],
   "source": []
  },
  {
   "cell_type": "code",
   "execution_count": null,
   "metadata": {},
   "outputs": [],
   "source": []
  },
  {
   "cell_type": "code",
   "execution_count": null,
   "metadata": {},
   "outputs": [],
   "source": []
  },
  {
   "cell_type": "code",
   "execution_count": null,
   "metadata": {},
   "outputs": [],
   "source": []
  },
  {
   "cell_type": "code",
   "execution_count": null,
   "metadata": {},
   "outputs": [],
   "source": []
  },
  {
   "cell_type": "code",
   "execution_count": null,
   "metadata": {},
   "outputs": [],
   "source": []
  },
  {
   "cell_type": "code",
   "execution_count": null,
   "metadata": {},
   "outputs": [],
   "source": []
  },
  {
   "cell_type": "code",
   "execution_count": null,
   "metadata": {},
   "outputs": [],
   "source": []
  },
  {
   "cell_type": "code",
   "execution_count": null,
   "metadata": {},
   "outputs": [],
   "source": []
  },
  {
   "cell_type": "code",
   "execution_count": null,
   "metadata": {},
   "outputs": [],
   "source": []
  },
  {
   "cell_type": "code",
   "execution_count": null,
   "metadata": {},
   "outputs": [],
   "source": []
  },
  {
   "cell_type": "code",
   "execution_count": null,
   "metadata": {},
   "outputs": [],
   "source": []
  },
  {
   "cell_type": "code",
   "execution_count": null,
   "metadata": {},
   "outputs": [],
   "source": []
  },
  {
   "cell_type": "code",
   "execution_count": null,
   "metadata": {},
   "outputs": [],
   "source": []
  },
  {
   "cell_type": "code",
   "execution_count": null,
   "metadata": {},
   "outputs": [],
   "source": []
  },
  {
   "cell_type": "code",
   "execution_count": null,
   "metadata": {},
   "outputs": [],
   "source": []
  },
  {
   "cell_type": "code",
   "execution_count": 65,
   "metadata": {},
   "outputs": [
    {
     "data": {
      "text/plain": [
       "2"
      ]
     },
     "execution_count": 65,
     "metadata": {},
     "output_type": "execute_result"
    }
   ],
   "source": [
    "abs(-2)"
   ]
  },
  {
   "cell_type": "code",
   "execution_count": null,
   "metadata": {},
   "outputs": [],
   "source": []
  }
 ],
 "metadata": {
  "kernelspec": {
   "display_name": "Python 3",
   "language": "python",
   "name": "python3"
  },
  "language_info": {
   "codemirror_mode": {
    "name": "ipython",
    "version": 3
   },
   "file_extension": ".py",
   "mimetype": "text/x-python",
   "name": "python",
   "nbconvert_exporter": "python",
   "pygments_lexer": "ipython3",
   "version": "3.7.6"
  }
 },
 "nbformat": 4,
 "nbformat_minor": 4
}
