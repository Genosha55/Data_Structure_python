{
 "cells": [
  {
   "cell_type": "code",
   "execution_count": 62,
   "metadata": {},
   "outputs": [],
   "source": [
    "class TwoSumFinder:\n",
    "    def __init__(self, input_file):\n",
    "        self._array = []\n",
    "        self.numbers = set()\n",
    "        \n",
    "        with open(input_file) as file:\n",
    "            for number in file.read().splitlines():\n",
    "                self.numbers.add(int(number))\n",
    "        self._array = sorted(self.numbers)\n",
    "\n",
    "    def compute_values(self):\n",
    "        target_values = set()\n",
    "        lower_sum = -10000\n",
    "        upper_sum = 10000\n",
    "        list_sum = list(range(lower_sum, upper_sum+1)) # use bisect / search to narrow down the range in self.array\n",
    "        \n",
    "        for num in self._array:\n",
    "            \n",
    "            for t in list_sum:\n",
    "                if t-num in self.numbers and t-num != num:\n",
    "                    target_values.add(t) \n",
    "\n",
    "        return len(target_values)\n"
   ]
  },
  {
   "cell_type": "code",
   "execution_count": 63,
   "metadata": {},
   "outputs": [
    {
     "name": "stdout",
     "output_type": "stream",
     "text": [
      "17\n",
      "CPU times: user 17.8 ms, sys: 42 µs, total: 17.8 ms\n",
      "Wall time: 17.5 ms\n"
     ]
    }
   ],
   "source": [
    "%%time\n",
    "two_sum_finder = TwoSumFinder(\"test_2sum.txt\")\n",
    "target_values = two_sum_finder.compute_values()\n",
    "print(target_values)"
   ]
  },
  {
   "cell_type": "markdown",
   "metadata": {},
   "source": [
    "++++++++++++++++++++++++++++++++++++++++++++++++++++++++++++++++++++++"
   ]
  },
  {
   "cell_type": "code",
   "execution_count": 66,
   "metadata": {},
   "outputs": [],
   "source": [
    "from bisect import bisect_left, bisect_right\n",
    "\n",
    "class TwoSumFinder:\n",
    "    def __init__(self, input_file):\n",
    "        self._array = []\n",
    "        self.numbers = set()\n",
    "        \n",
    "        with open(input_file) as file:\n",
    "            for number in file.read().splitlines():\n",
    "                self.numbers.add(int(number))\n",
    "        self._array = sorted(self.numbers)\n",
    "\n",
    "    def compute_values(self):\n",
    "        target_values = set()\n",
    "        \n",
    "        for num in self._array:            \n",
    "            low = bisect_left(self._array, -10000 - num)\n",
    "            high = bisect_right(self._array, 10000 - num)\n",
    "            for pair_num in self._array[low:high]:\n",
    "                if pair_num != num:\n",
    "                    target_values.add(num + pair_num)\n",
    "        return len(target_values)"
   ]
  },
  {
   "cell_type": "code",
   "execution_count": 67,
   "metadata": {},
   "outputs": [
    {
     "name": "stdout",
     "output_type": "stream",
     "text": [
      "427\n",
      "CPU times: user 3.01 s, sys: 0 ns, total: 3.01 s\n",
      "Wall time: 3.01 s\n"
     ]
    }
   ],
   "source": [
    "%%time\n",
    "two_sum_finder = TwoSumFinder(\"2sum.txt\")\n",
    "target_values = two_sum_finder.compute_values()\n",
    "print(target_values)"
   ]
  },
  {
   "cell_type": "code",
   "execution_count": null,
   "metadata": {},
   "outputs": [],
   "source": []
  },
  {
   "cell_type": "code",
   "execution_count": null,
   "metadata": {},
   "outputs": [],
   "source": []
  },
  {
   "cell_type": "code",
   "execution_count": null,
   "metadata": {},
   "outputs": [],
   "source": []
  },
  {
   "cell_type": "code",
   "execution_count": null,
   "metadata": {},
   "outputs": [],
   "source": []
  },
  {
   "cell_type": "code",
   "execution_count": null,
   "metadata": {},
   "outputs": [],
   "source": []
  },
  {
   "cell_type": "code",
   "execution_count": null,
   "metadata": {},
   "outputs": [],
   "source": []
  },
  {
   "cell_type": "code",
   "execution_count": null,
   "metadata": {},
   "outputs": [],
   "source": []
  },
  {
   "cell_type": "code",
   "execution_count": null,
   "metadata": {},
   "outputs": [],
   "source": []
  },
  {
   "cell_type": "code",
   "execution_count": null,
   "metadata": {},
   "outputs": [],
   "source": []
  },
  {
   "cell_type": "code",
   "execution_count": 2,
   "metadata": {},
   "outputs": [
    {
     "name": "stdout",
     "output_type": "stream",
     "text": [
      "{1, 2, 3, 4, 5, 8}\n"
     ]
    }
   ],
   "source": [
    "a = set()\n",
    "b = [8,1,1,2,3,4,4,4,3,1,1,2,3,4,5]\n",
    "for i in b:\n",
    "    a.add(i)\n",
    "    \n",
    "print(a)"
   ]
  },
  {
   "cell_type": "code",
   "execution_count": 3,
   "metadata": {},
   "outputs": [],
   "source": [
    "a = set()"
   ]
  },
  {
   "cell_type": "code",
   "execution_count": 4,
   "metadata": {},
   "outputs": [
    {
     "name": "stdout",
     "output_type": "stream",
     "text": [
      "[0, 1, 2, 3, 4, 5, 6, 7, 8]\n"
     ]
    }
   ],
   "source": [
    "a = list(range(9))\n",
    "print(a)"
   ]
  },
  {
   "cell_type": "code",
   "execution_count": 5,
   "metadata": {},
   "outputs": [
    {
     "name": "stdout",
     "output_type": "stream",
     "text": [
      "[1, 2]\n"
     ]
    }
   ],
   "source": [
    "a = list(range(1,3))\n",
    "print(a)"
   ]
  },
  {
   "cell_type": "code",
   "execution_count": null,
   "metadata": {},
   "outputs": [],
   "source": []
  }
 ],
 "metadata": {
  "kernelspec": {
   "display_name": "Python 3",
   "language": "python",
   "name": "python3"
  },
  "language_info": {
   "codemirror_mode": {
    "name": "ipython",
    "version": 3
   },
   "file_extension": ".py",
   "mimetype": "text/x-python",
   "name": "python",
   "nbconvert_exporter": "python",
   "pygments_lexer": "ipython3",
   "version": "3.7.6"
  }
 },
 "nbformat": 4,
 "nbformat_minor": 4
}
