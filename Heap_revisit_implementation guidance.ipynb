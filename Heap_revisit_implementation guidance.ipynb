{
 "cells": [
  {
   "cell_type": "code",
   "execution_count": 1,
   "metadata": {},
   "outputs": [],
   "source": [
    "# revisit the extract-min process as you would delete the root minimum, and \"move the last leaf to be new ROOT\"\n",
    "# then interatively bubble-down until heap property has been restored (always swap with smaller child!)"
   ]
  },
  {
   "cell_type": "code",
   "execution_count": null,
   "metadata": {},
   "outputs": [],
   "source": []
  },
  {
   "cell_type": "code",
   "execution_count": 192,
   "metadata": {},
   "outputs": [],
   "source": [
    "class MinIntHeap:    \n",
    "    def __init__(self):\n",
    "        self.heap = [] \n",
    "        \n",
    "    @staticmethod\n",
    "    def swap(a,b):\n",
    "        c = a\n",
    "        a = b\n",
    "        b = c\n",
    "        return a,b\n",
    "    \n",
    "    @staticmethod\n",
    "    def find_p_index(index):\n",
    "        if not index%2:\n",
    "            p_index = (index-2)//2\n",
    "        elif index%2:\n",
    "            p_index = (index-1)//2\n",
    "        return p_index\n",
    "    \n",
    "    @staticmethod\n",
    "    def find_ch_index(index):\n",
    "        l_child = 2*index+1\n",
    "        r_child = 2*index+2\n",
    "        return l_child, r_child\n",
    "        \n",
    "    \n",
    "    def is_heap(self, a_list):\n",
    "        for index in reversed(range(len(a_list))):\n",
    "            if not index:\n",
    "                pass\n",
    "            else:            \n",
    "                p_item = a_list[self.find_p_index(index)]\n",
    "                if p_item > a_list[index]:\n",
    "                    return False\n",
    "        return True\n",
    "    \n",
    "    def valid_position(self, index, p_index): # in use\n",
    "        item  = self.heap[index]\n",
    "        p_item = self.heap[p_index]\n",
    "        if p_item > item:\n",
    "            return False\n",
    "        else:\n",
    "            return True\n",
    "        \n",
    "    def _shiftup(self, item_index): # shift_up one level!\n",
    "        if not item_index:\n",
    "            return\n",
    "        else:  \n",
    "            p_index = self.find_p_index(item_index)\n",
    "\n",
    "            if not self.valid_position(item_index, p_index):\n",
    "                self.heap[p_index],self.heap[item_index] = self.swap(self.heap[p_index],self.heap[item_index])\n",
    "                self._shiftup(p_index)            \n",
    "        return \n",
    "            \n",
    "    def _shiftdown(self, item_index): # in use        \n",
    "        length_of_heap = len(self.heap)\n",
    "#         self.heap.extend([9999999] * 2*length_of_heap) # double the length        \n",
    "      \n",
    "        l_child, r_child = self.find_ch_index(item_index)\n",
    "        if l_child > length_of_heap-1:\n",
    "            return\n",
    "        elif r_child > length_of_heap-1:\n",
    "            smaller_child_index = l_child\n",
    "        else:\n",
    "            if self.heap[l_child] < self.heap[r_child]:\n",
    "                smaller_child_index = l_child\n",
    "            else:\n",
    "                smaller_child_index = r_child\n",
    "\n",
    "        if not self.valid_position(smaller_child_index,item_index):\n",
    "            self.heap[item_index],self.heap[smaller_child_index] = self.swap(self.heap[item_index],self.heap[smaller_child_index])\n",
    "            self._shiftdown(smaller_child_index) \n",
    "        return            \n",
    "        \n",
    "    def heapify(self,a_list):\n",
    "        self.heap = a_list\n",
    "        \n",
    "        for index in reversed(range(len(a_list))):\n",
    "            if index:\n",
    "                self._shiftup(index)\n",
    "                self._shiftdown(index)\n",
    "        return         \n",
    "             \n",
    "    def init_heapify(self, a_list):\n",
    "        if not self.is_heap(a_list):\n",
    "            self.heapify(a_list)\n",
    "    \n",
    "    def heappop(self,a_list):\n",
    "        self.init_heapify(a_list)        \n",
    "            \n",
    "        result = a_list[0]\n",
    "        a_list[0] = a_list[-1]\n",
    "        a_list.pop(-1)\n",
    "        self._shiftdown(0) \n",
    "            \n",
    "        return result\n",
    "    \n",
    "    def heappush(self, a_list, item):\n",
    "        self.init_heapify(a_list)\n",
    "        \n",
    "        a_list.append(item)\n",
    "        self._shiftup(len(a_list)-1)\n",
    "    \n",
    "    def heappushpop(self, a_list, item):\n",
    "        self.init_heapify(a_list)\n",
    "        \n",
    "        a_list.append(item)\n",
    "        self._shiftup(len(a_list)-1)\n",
    "        result = a_list[0]\n",
    "        a_list[0] = a_list[-1]\n",
    "        a_list.pop(-1)\n",
    "        self._shiftdown(0)\n",
    "        return result\n",
    "    \n",
    "    def heapreplace(self, a_list, item):\n",
    "        self.init_heapify(a_list)\n",
    "        \n",
    "        result = a_list[0]\n",
    "        a_list[0] = a_list[-1]\n",
    "        a_list.pop(-1)\n",
    "        self._shiftdown(0)\n",
    "        a_list.append(item)\n",
    "        self._shiftup(len(a_list)-1)        \n",
    "        return result\n",
    "    \n",
    "    def heapview(self, a_list):\n",
    "        self.heapify(a_list)\n",
    "        return a_list[0]\n",
    "    \n",
    "#     if __name__ == \"__main__\":\n",
    "#         main()     "
   ]
  },
  {
   "cell_type": "code",
   "execution_count": 193,
   "metadata": {},
   "outputs": [
    {
     "name": "stdout",
     "output_type": "stream",
     "text": [
      "[1, 3, 5, 4, 6, 8, 9, 10, 7]\n"
     ]
    }
   ],
   "source": [
    "a = [6,7,9,4,3,5,8,10,1]\n",
    "b = MinIntHeap()\n",
    "b.heapify(a)\n",
    "print(a)\n"
   ]
  },
  {
   "cell_type": "code",
   "execution_count": 194,
   "metadata": {},
   "outputs": [
    {
     "data": {
      "text/plain": [
       "True"
      ]
     },
     "execution_count": 194,
     "metadata": {},
     "output_type": "execute_result"
    }
   ],
   "source": [
    "b.is_heap(a)"
   ]
  },
  {
   "cell_type": "code",
   "execution_count": 195,
   "metadata": {},
   "outputs": [
    {
     "name": "stdout",
     "output_type": "stream",
     "text": [
      "[3, 4, 5, 6, 6, 8, 9, 10, 7]\n",
      "True\n"
     ]
    }
   ],
   "source": [
    "a = [6,7,9,4,3,5,8,10,1,6]\n",
    "b.heappop(a)\n",
    "print(a)\n",
    "print(b.is_heap(a))"
   ]
  },
  {
   "cell_type": "code",
   "execution_count": 196,
   "metadata": {},
   "outputs": [
    {
     "name": "stdout",
     "output_type": "stream",
     "text": [
      "[0, 1, 4, 2, 3, 6, 8, 6]\n"
     ]
    }
   ],
   "source": [
    "a = [1,3,4,6,2,6,8]\n",
    "b.heappush(a,0)\n",
    "print(a)"
   ]
  },
  {
   "cell_type": "code",
   "execution_count": 197,
   "metadata": {},
   "outputs": [
    {
     "name": "stdout",
     "output_type": "stream",
     "text": [
      "[3, 4, 9, 5, 7]\n"
     ]
    }
   ],
   "source": [
    "li1 = [5,7,9,4,3]\n",
    "b.heappushpop(li1,1)\n",
    "print(li1)"
   ]
  },
  {
   "cell_type": "code",
   "execution_count": 198,
   "metadata": {},
   "outputs": [
    {
     "name": "stdout",
     "output_type": "stream",
     "text": [
      "[2, 4, 9, 7, 5]\n"
     ]
    }
   ],
   "source": [
    "li2 = [5,7,9,4,3]\n",
    "b.heapreplace(li2,2)\n",
    "print(li2)"
   ]
  },
  {
   "cell_type": "code",
   "execution_count": null,
   "metadata": {},
   "outputs": [],
   "source": []
  },
  {
   "cell_type": "code",
   "execution_count": null,
   "metadata": {},
   "outputs": [],
   "source": []
  },
  {
   "cell_type": "code",
   "execution_count": null,
   "metadata": {},
   "outputs": [],
   "source": []
  },
  {
   "cell_type": "code",
   "execution_count": null,
   "metadata": {},
   "outputs": [],
   "source": []
  },
  {
   "cell_type": "code",
   "execution_count": 9,
   "metadata": {},
   "outputs": [
    {
     "name": "stdout",
     "output_type": "stream",
     "text": [
      "[1, 2, 3, 4]\n",
      "[4, 2, 3, 4]\n",
      "[4, 2, 3]\n"
     ]
    }
   ],
   "source": [
    "a = [1,2,3,4]\n",
    "# a[0] = []\n",
    "# print(a)\n",
    "a[0] = a[-1]\n",
    "print(a)\n",
    "a.pop(-1)\n",
    "print(a)"
   ]
  },
  {
   "cell_type": "code",
   "execution_count": 10,
   "metadata": {},
   "outputs": [
    {
     "ename": "TypeError",
     "evalue": "'>' not supported between instances of 'int' and 'list'",
     "output_type": "error",
     "traceback": [
      "\u001b[0;31m---------------------------------------------------------------------------\u001b[0m",
      "\u001b[0;31mTypeError\u001b[0m                                 Traceback (most recent call last)",
      "\u001b[0;32m<ipython-input-10-8021e99a302b>\u001b[0m in \u001b[0;36m<module>\u001b[0;34m\u001b[0m\n\u001b[1;32m      1\u001b[0m \u001b[0ma\u001b[0m \u001b[0;34m=\u001b[0m \u001b[0;34m[\u001b[0m\u001b[0;36m1\u001b[0m\u001b[0;34m,\u001b[0m\u001b[0;36m2\u001b[0m\u001b[0;34m,\u001b[0m\u001b[0;36m3\u001b[0m\u001b[0;34m,\u001b[0m\u001b[0;34m[\u001b[0m\u001b[0;34m]\u001b[0m\u001b[0;34m]\u001b[0m\u001b[0;34m\u001b[0m\u001b[0;34m\u001b[0m\u001b[0m\n\u001b[0;32m----> 2\u001b[0;31m \u001b[0ma\u001b[0m\u001b[0;34m[\u001b[0m\u001b[0;36m2\u001b[0m\u001b[0;34m]\u001b[0m \u001b[0;34m>\u001b[0m \u001b[0ma\u001b[0m\u001b[0;34m[\u001b[0m\u001b[0;34m-\u001b[0m\u001b[0;36m1\u001b[0m\u001b[0;34m]\u001b[0m\u001b[0;34m\u001b[0m\u001b[0;34m\u001b[0m\u001b[0m\n\u001b[0m",
      "\u001b[0;31mTypeError\u001b[0m: '>' not supported between instances of 'int' and 'list'"
     ]
    }
   ],
   "source": [
    "a = [1,2,3]\n",
    "a[2] > a[-1]"
   ]
  },
  {
   "cell_type": "code",
   "execution_count": 13,
   "metadata": {},
   "outputs": [
    {
     "name": "stdout",
     "output_type": "stream",
     "text": [
      "[9999999, 9999999, 9999999, 9999999]\n",
      "[1, 2, 3, 4, 9999999, 9999999, 9999999, 9999999]\n"
     ]
    }
   ],
   "source": [
    "a = [1,2,3,4]\n",
    "a[:len(a)]\n",
    "\n",
    "b = [9999999] * len(a)\n",
    "print(b)\n",
    "a = a+b\n",
    "print(a)"
   ]
  },
  {
   "cell_type": "code",
   "execution_count": 99,
   "metadata": {},
   "outputs": [],
   "source": [
    "a = [1,2,3,4,5]\n",
    "def modify_list(a_list):\n",
    "    b = a_list\n",
    "    b = b + [2]\n",
    "    for i in range(len(b)):\n",
    "        b[i] = 0\n",
    "#     return a_list\n"
   ]
  },
  {
   "cell_type": "code",
   "execution_count": 100,
   "metadata": {},
   "outputs": [
    {
     "name": "stdout",
     "output_type": "stream",
     "text": [
      "[1, 2, 3, 4, 5]\n"
     ]
    }
   ],
   "source": [
    "modify_list(a)\n",
    "print(a)"
   ]
  },
  {
   "cell_type": "code",
   "execution_count": 115,
   "metadata": {},
   "outputs": [
    {
     "name": "stdout",
     "output_type": "stream",
     "text": [
      "[1, 2, 3]\n",
      "[1, 2, 3]\n"
     ]
    }
   ],
   "source": [
    "a = [1,2,3]\n",
    "b = [9999] * len(a)\n",
    "a.extend(b)\n",
    "b = a\n",
    "b = b[:3]\n",
    "print(b)\n",
    "a = b\n",
    "print(a)"
   ]
  },
  {
   "cell_type": "code",
   "execution_count": 135,
   "metadata": {},
   "outputs": [
    {
     "name": "stdout",
     "output_type": "stream",
     "text": [
      "[1, 2]\n"
     ]
    }
   ],
   "source": [
    "a = [1,2,3]\n",
    "del a[2:]\n",
    "print(a)"
   ]
  },
  {
   "cell_type": "code",
   "execution_count": 134,
   "metadata": {},
   "outputs": [
    {
     "name": "stdout",
     "output_type": "stream",
     "text": [
      "Help on method_descriptor:\n",
      "\n",
      "remove(self, value, /)\n",
      "    Remove first occurrence of value.\n",
      "    \n",
      "    Raises ValueError if the value is not present.\n",
      "\n"
     ]
    }
   ],
   "source": []
  },
  {
   "cell_type": "code",
   "execution_count": null,
   "metadata": {},
   "outputs": [],
   "source": []
  }
 ],
 "metadata": {
  "kernelspec": {
   "display_name": "Python 3",
   "language": "python",
   "name": "python3"
  },
  "language_info": {
   "codemirror_mode": {
    "name": "ipython",
    "version": 3
   },
   "file_extension": ".py",
   "mimetype": "text/x-python",
   "name": "python",
   "nbconvert_exporter": "python",
   "pygments_lexer": "ipython3",
   "version": "3.7.6"
  }
 },
 "nbformat": 4,
 "nbformat_minor": 4
}
