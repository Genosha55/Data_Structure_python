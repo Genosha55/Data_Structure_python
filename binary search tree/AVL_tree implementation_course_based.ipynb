{
 "cells": [
  {
   "cell_type": "code",
   "execution_count": null,
   "metadata": {},
   "outputs": [],
   "source": [
    "# top down access"
   ]
  },
  {
   "cell_type": "code",
   "execution_count": 10,
   "metadata": {},
   "outputs": [],
   "source": [
    "class Node:\n",
    "    def __init__(self, value):\n",
    "        self.value = value\n",
    "        self.lchild = None\n",
    "        self.rchild = None\n",
    "        self.parent = None  # can we not have this?\n",
    "        self.height = 0  # default exist is 0, if is null height is -1! \n",
    "        "
   ]
  },
  {
   "cell_type": "code",
   "execution_count": 36,
   "metadata": {},
   "outputs": [],
   "source": [
    "class AVL_Tree:\n",
    "    def __init__(self):\n",
    "#         self.root = None\n",
    "        self.array = []\n",
    "    \n",
    "    def _add(self, current_root, value): # current_root is the root node at hand if there is one\n",
    "        if current_root is None:\n",
    "            return Node(value)\n",
    "        else:\n",
    "            if value < current_root.value:\n",
    "                current_root.lchild = self._add(current_root.lchild, value)\n",
    "            else:\n",
    "                current_root.rchild = self._add(current_root.rchild, value)\n",
    "        \n",
    "        # update height\n",
    "        current_root.height = 1 + max(self._get_height(current_root.lchild),  # use defination to update height,\n",
    "                                      self._get_height(current_root.rchild))  # use getter to readout height\n",
    "        \n",
    "        balanced = self._get_balance(current_root)  # use getter function instead of directly ask for the attribute\n",
    "                                                    # so that if none, it could return -1 as the height \n",
    "        \n",
    "        # right over-weighted\n",
    "        if self._get_balance(current_root) < -1: \n",
    "            if self._get_height(current_root.rchild.lchild) != -1:\n",
    "                current_root.rchild = self._right_rotate(current_root.rchild)\n",
    "                return self._left_rotate(current_root)\n",
    "            else:\n",
    "                return self._left_rotate(current_root)\n",
    "        if self._get_balance(current_root) > 1:\n",
    "            if self._get_height(current_root.lchild.rchild) != -1:\n",
    "                current_root.lchild = self._left_rotate(current_root.lchild)\n",
    "                return self._right_rotate(current_root)\n",
    "            else:\n",
    "                return self._right_rotate(current_root)\n",
    "            \n",
    "        return current_root\n",
    "    \n",
    "    def _right_rotate(self, root):  # top down\n",
    "        y = root.lchild\n",
    "        b = y.rchild\n",
    "        y.rchild = root\n",
    "        root.lchild = b\n",
    "        \n",
    "        # update height\n",
    "        root.height = 1 + max(self._get_height(root.lchild),\n",
    "                              self._get_height(root.rchild))\n",
    "        y.height = 1 + max(self._get_height(y.lchild), \n",
    "                           self._get_height(y.rchild))\n",
    "        return y\n",
    "    \n",
    "    def _left_rotate(self, root):  # top down\n",
    "        y = root.rchild\n",
    "        b = y.lchild\n",
    "        y.lchild = root\n",
    "        root.rchild = b\n",
    "        \n",
    "        # update height\n",
    "        root.height = 1 + max(self._get_height(root.lchild),\n",
    "                              self._get_height(root.rchild))\n",
    "        y.height = 1 + max(self._get_height(y.lchild), \n",
    "                           self._get_height(y.rchild))\n",
    "        return y   \n",
    "    \n",
    "    def _get_height(self, current_root):\n",
    "        if current_root is None:\n",
    "            return -1\n",
    "        else:\n",
    "            return current_root.height\n",
    "        \n",
    "    def _get_balance(self, current_root):\n",
    "        if current_root is None:\n",
    "            return 0\n",
    "        else:\n",
    "            return self._get_height(current_root.lchild) - self._get_height(current_root.rchild)\n",
    "        \n",
    "    def _visit(self, node):         \n",
    "        self.array.append(node.value)        \n",
    "        \n",
    "    def _preorder(self, current_root):  # preorder traversal: visit, go left, go right\n",
    "        if current_root is None:\n",
    "            return \n",
    "        else:\n",
    "            self._visit(current_root)\n",
    "            self._preorder(current_root.lchild)\n",
    "            self._preorder(current_root.rchild)\n",
    "        \n",
    "    def _inorder(self, current_root):  # in-order: left, visit, right\n",
    "        if current_root is None:\n",
    "            return \n",
    "        else:\n",
    "            self._inorder(current_root.lchild)\n",
    "            self._visit(current_root)\n",
    "            self._inorder(current_root.rchild)\n",
    "                    \n",
    "    def _postorder(self, current_root):  # post-order: left, right, visit        \n",
    "        if current_root is None:\n",
    "            return \n",
    "        else:\n",
    "            self._postorder(current_root.lchild)\n",
    "            self._postorder(current_root.rchild)\n",
    "            self._visit(current_root)\n",
    "        \n",
    "    def view_avl(self,root,flag):\n",
    "        self.array = []\n",
    "        if flag==\"inorder\":\n",
    "            self._inorder(root)\n",
    "        elif flag==\"preorder\":\n",
    "            self._preorder(root)\n",
    "        elif flag==\"postorder\":\n",
    "            self._postorder(root)\n",
    "        return self.array"
   ]
  },
  {
   "cell_type": "code",
   "execution_count": 45,
   "metadata": {},
   "outputs": [
    {
     "name": "stdout",
     "output_type": "stream",
     "text": [
      "[7, 5, 3, 4, 6, 12, 8, 13]\n",
      "6\n"
     ]
    }
   ],
   "source": [
    "avl = AVL_Tree()\n",
    "root = None\n",
    "root = avl._add(root, 7)\n",
    "root = avl._add(root, 5)\n",
    "root = avl._add(root, 12)\n",
    "root = avl._add(root, 3)\n",
    "root = avl._add(root, 6)\n",
    "root = avl._add(root, 8)\n",
    "root = avl._add(root, 13)\n",
    "root = avl._add(root, 4)\n",
    "\n",
    "print(avl.view_avl(root,\"preorder\"))\n",
    "print(root.lchild.rchild.value)\n"
   ]
  },
  {
   "cell_type": "code",
   "execution_count": 46,
   "metadata": {},
   "outputs": [
    {
     "name": "stdout",
     "output_type": "stream",
     "text": [
      "[3, 4, 5, 6, 7, 8, 12, 13]\n"
     ]
    }
   ],
   "source": [
    "print(avl.view_avl(root,\"inorder\"))  # sorting"
   ]
  },
  {
   "cell_type": "code",
   "execution_count": null,
   "metadata": {},
   "outputs": [],
   "source": []
  }
 ],
 "metadata": {
  "kernelspec": {
   "display_name": "Python 3",
   "language": "python",
   "name": "python3"
  },
  "language_info": {
   "codemirror_mode": {
    "name": "ipython",
    "version": 3
   },
   "file_extension": ".py",
   "mimetype": "text/x-python",
   "name": "python",
   "nbconvert_exporter": "python",
   "pygments_lexer": "ipython3",
   "version": "3.7.6"
  }
 },
 "nbformat": 4,
 "nbformat_minor": 4
}
