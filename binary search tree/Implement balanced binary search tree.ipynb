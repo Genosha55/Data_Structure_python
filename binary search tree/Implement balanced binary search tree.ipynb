{
 "cells": [
  {
   "cell_type": "code",
   "execution_count": 8,
   "metadata": {},
   "outputs": [
    {
     "name": "stdout",
     "output_type": "stream",
     "text": [
      "\n",
      "  5_____\n",
      " /      \\\n",
      "6        12\n",
      "        /\n",
      "      _2\n",
      "     /\n",
      "    14\n",
      "\n"
     ]
    }
   ],
   "source": [
    "from binarytree import tree, bst, heap\n",
    "\n",
    "my_tree = tree(height=3, is_perfect=False)\n",
    "\n",
    "my_bst = bst(height=3,is_perfect=True)\n",
    "\n",
    "my_heap = heap(height=3,is_max=True,is_perfect=False)\n",
    "\n",
    "print(my_tree)\n"
   ]
  },
  {
   "cell_type": "code",
   "execution_count": 9,
   "metadata": {},
   "outputs": [
    {
     "name": "stdout",
     "output_type": "stream",
     "text": [
      "\n",
      "        ______7_______\n",
      "       /              \\\n",
      "    __3__           ___11___\n",
      "   /     \\         /        \\\n",
      "  1       5       9         _13\n",
      " / \\     / \\     / \\       /   \\\n",
      "0   2   4   6   8   10    12    14\n",
      "\n"
     ]
    }
   ],
   "source": [
    "print(my_bst)"
   ]
  },
  {
   "cell_type": "code",
   "execution_count": 24,
   "metadata": {},
   "outputs": [
    {
     "name": "stdout",
     "output_type": "stream",
     "text": [
      "Help on BST in module __main__ object:\n",
      "\n",
      "class BST(builtins.object)\n",
      " |  Methods defined here:\n",
      " |  \n",
      " |  __init__(self)\n",
      " |      Initialize self.  See help(type(self)) for accurate signature.\n",
      " |  \n",
      " |  search(self, item)\n",
      " |  \n",
      " |  ----------------------------------------------------------------------\n",
      " |  Data descriptors defined here:\n",
      " |  \n",
      " |  __dict__\n",
      " |      dictionary for instance variables (if defined)\n",
      " |  \n",
      " |  __weakref__\n",
      " |      list of weak references to the object (if defined)\n",
      "\n"
     ]
    }
   ],
   "source": [
    "help(bst)"
   ]
  },
  {
   "cell_type": "code",
   "execution_count": 10,
   "metadata": {},
   "outputs": [
    {
     "name": "stdout",
     "output_type": "stream",
     "text": [
      "\n",
      "        ________14__\n",
      "       /            \\\n",
      "    __11__           12\n",
      "   /      \\         /  \\\n",
      "  5        10      7    9\n",
      " / \\      /  \\\n",
      "2   4    8    3\n",
      "\n"
     ]
    }
   ],
   "source": [
    "print(my_heap)"
   ]
  },
  {
   "cell_type": "code",
   "execution_count": null,
   "metadata": {},
   "outputs": [],
   "source": []
  },
  {
   "cell_type": "code",
   "execution_count": null,
   "metadata": {},
   "outputs": [],
   "source": []
  },
  {
   "cell_type": "code",
   "execution_count": null,
   "metadata": {},
   "outputs": [],
   "source": [
    "## balanced binary tree\n",
    "# each node has (left_child pointer, right_child pointer, parent pointer) \"all\" left keys < root < \"all\" right keys\n",
    "# height (log(n), n)\n",
    "# to implement: class Tree, class Node(parent, lchild=False, rchild=False) -- node works as a place holder here\n",
    "# no duplicate for now in the tree\n",
    "# each node class would have three attribute (its own value, lchild, rchild)\n",
    "# putting values into the tree (1st item at root then put in according to rule of BST)\n",
    "# functions: search/insert; Min, Max, Pred(just smaller) and Succ(just bigger); In-Order Traversal (print out keys increasing order)\n",
    "# Deletion, Select and Rank\n",
    "\n",
    "# preorder traversal: visit, go left, go right\n",
    "# in-order: left, visit, right\n",
    "# post-order: left, right, visit"
   ]
  },
  {
   "cell_type": "code",
   "execution_count": 17,
   "metadata": {},
   "outputs": [],
   "source": [
    "class Node(object):\n",
    "    def __init__(self, value):\n",
    "        self.value = value        \n",
    "        self.lchild = None\n",
    "        self.rchild = None\n",
    "        \n",
    "        \n",
    "    "
   ]
  },
  {
   "cell_type": "code",
   "execution_count": 74,
   "metadata": {},
   "outputs": [],
   "source": [
    "class BST(object):\n",
    "    def __init__(self):\n",
    "        self.array = []\n",
    "        self.root = None\n",
    "        pass\n",
    "    \n",
    "    def tree_view(self, a_list, flag): # transfer a list into a BST_list\n",
    "        for index in range(len(a_list)):\n",
    "            item = a_list[index]            \n",
    "            self.add(self.root,item)\n",
    "            \n",
    "        if flag == \"postorder\":\n",
    "            self.postorder(self.root)\n",
    "        elif flag==\"preorder\":\n",
    "            self.preorder(self.root)\n",
    "        elif flag==\"inorder\":\n",
    "            self.inorder(self.root)\n",
    "\n",
    "        return self.array    \n",
    "        \n",
    "    def add(self, current_root, value): # current_root is the root node at hand if there is one\n",
    "        if self.root == None:\n",
    "            self.root = Node(value)\n",
    "        else:\n",
    "            if value < current_root.value:\n",
    "                if current_root.lchild == None:\n",
    "                    current_root.lchild = Node(value)\n",
    "                else:\n",
    "                    self.add(current_root.lchild, value)\n",
    "            else:\n",
    "                if current_root.rchild == None:\n",
    "                    current_root.rchild = Node(value)\n",
    "                else:\n",
    "                    self.add(current_root.rchild, value)\n",
    "                    \n",
    "    def visit(self, node):         \n",
    "        self.array.append(node.value)        \n",
    "        \n",
    "    def preorder(self, current_root):\n",
    "        if current_root == None:\n",
    "            return \n",
    "        else:\n",
    "            self.visit(current_root)\n",
    "            self.preorder(current_root.lchild)\n",
    "            self.preorder(current_root.rchild)\n",
    "        \n",
    "    def inorder(self, current_root):\n",
    "        if current_root == None:\n",
    "            return \n",
    "        else:\n",
    "            self.inorder(current_root.lchild)\n",
    "            self.visit(current_root)\n",
    "            self.inorder(current_root.rchild)\n",
    "                    \n",
    "    def postorder(self, current_root):\n",
    "        if current_root == None:\n",
    "            return \n",
    "        else:\n",
    "            self.postorder(current_root.lchild)\n",
    "            self.postorder(current_root.rchild)\n",
    "            self.visit(current_root)\n",
    "        \n",
    "                    \n",
    "    \n",
    "    def insert(self, a_BST, item):\n",
    "        \n",
    "        pass\n",
    "    \n",
    "    def search(self, item):\n",
    "        pass\n",
    "    \n",
    "    \n",
    "    \n",
    "    "
   ]
  },
  {
   "cell_type": "code",
   "execution_count": 77,
   "metadata": {},
   "outputs": [
    {
     "data": {
      "text/plain": [
       "[7, 5, 3, 4, 6, 12, 8, 13]"
      ]
     },
     "execution_count": 77,
     "metadata": {},
     "output_type": "execute_result"
    }
   ],
   "source": [
    "a = [7,5,12,3,6,8,13,4]  \n",
    "bst = BST()\n",
    "bst.tree_view(a,\"preorder\")\n",
    "\n",
    "\n"
   ]
  },
  {
   "cell_type": "code",
   "execution_count": null,
   "metadata": {},
   "outputs": [],
   "source": []
  },
  {
   "cell_type": "code",
   "execution_count": null,
   "metadata": {},
   "outputs": [],
   "source": []
  },
  {
   "cell_type": "code",
   "execution_count": null,
   "metadata": {},
   "outputs": [],
   "source": []
  },
  {
   "cell_type": "code",
   "execution_count": null,
   "metadata": {},
   "outputs": [],
   "source": []
  },
  {
   "cell_type": "code",
   "execution_count": null,
   "metadata": {},
   "outputs": [],
   "source": []
  },
  {
   "cell_type": "code",
   "execution_count": null,
   "metadata": {},
   "outputs": [],
   "source": []
  },
  {
   "cell_type": "code",
   "execution_count": null,
   "metadata": {},
   "outputs": [],
   "source": []
  },
  {
   "cell_type": "code",
   "execution_count": null,
   "metadata": {},
   "outputs": [],
   "source": []
  },
  {
   "cell_type": "code",
   "execution_count": 53,
   "metadata": {},
   "outputs": [
    {
     "name": "stdout",
     "output_type": "stream",
     "text": [
      "True\n"
     ]
    }
   ],
   "source": [
    "print (not None)"
   ]
  },
  {
   "cell_type": "code",
   "execution_count": null,
   "metadata": {},
   "outputs": [],
   "source": []
  },
  {
   "cell_type": "code",
   "execution_count": null,
   "metadata": {},
   "outputs": [],
   "source": []
  },
  {
   "cell_type": "code",
   "execution_count": null,
   "metadata": {},
   "outputs": [],
   "source": []
  },
  {
   "cell_type": "code",
   "execution_count": 1,
   "metadata": {},
   "outputs": [
    {
     "name": "stdout",
     "output_type": "stream",
     "text": [
      "2\n",
      "3\n",
      "4\n",
      "5\n"
     ]
    }
   ],
   "source": [
    "a = [1,2,3,4,5]\n",
    "for i in range(1,len(a)):\n",
    "    print(a[i])"
   ]
  },
  {
   "cell_type": "code",
   "execution_count": null,
   "metadata": {},
   "outputs": [],
   "source": []
  },
  {
   "cell_type": "code",
   "execution_count": null,
   "metadata": {},
   "outputs": [],
   "source": []
  },
  {
   "cell_type": "code",
   "execution_count": null,
   "metadata": {},
   "outputs": [],
   "source": []
  },
  {
   "cell_type": "code",
   "execution_count": null,
   "metadata": {},
   "outputs": [],
   "source": []
  },
  {
   "cell_type": "code",
   "execution_count": null,
   "metadata": {},
   "outputs": [],
   "source": []
  },
  {
   "cell_type": "code",
   "execution_count": null,
   "metadata": {},
   "outputs": [],
   "source": []
  },
  {
   "cell_type": "code",
   "execution_count": null,
   "metadata": {},
   "outputs": [],
   "source": []
  },
  {
   "cell_type": "code",
   "execution_count": null,
   "metadata": {},
   "outputs": [],
   "source": []
  },
  {
   "cell_type": "code",
   "execution_count": null,
   "metadata": {},
   "outputs": [],
   "source": []
  },
  {
   "cell_type": "code",
   "execution_count": null,
   "metadata": {},
   "outputs": [],
   "source": []
  }
 ],
 "metadata": {
  "kernelspec": {
   "display_name": "Python 3",
   "language": "python",
   "name": "python3"
  },
  "language_info": {
   "codemirror_mode": {
    "name": "ipython",
    "version": 3
   },
   "file_extension": ".py",
   "mimetype": "text/x-python",
   "name": "python",
   "nbconvert_exporter": "python",
   "pygments_lexer": "ipython3",
   "version": "3.7.6"
  }
 },
 "nbformat": 4,
 "nbformat_minor": 4
}
