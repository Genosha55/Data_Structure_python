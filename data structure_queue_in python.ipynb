{
 "cells": [
  {
   "cell_type": "code",
   "execution_count": 1,
   "metadata": {},
   "outputs": [],
   "source": [
    "# queue = ['Wake up', 'Have a cup of coffee', 'Have a shower', 'Get dressed', 'Have breakfast', 'Go to work']"
   ]
  },
  {
   "cell_type": "code",
   "execution_count": 12,
   "metadata": {},
   "outputs": [],
   "source": [
    "class Queue_class():\n",
    "    def __init__(self):\n",
    "        self.a_queue = ['Wake up', 'Have a cup of coffee', 'Have a shower', 'Get dressed', 'Have breakfast', 'Go to work']\n",
    "\n",
    "    def view_q(self):\n",
    "        for x in range(len(self.a_queue)):\n",
    "            print(self.a_queue[x])\n",
    "\n",
    "    def push_q(self):\n",
    "        item = input('Please enter the item you wish to add to the queue: ')\n",
    "        self.a_queue.append(item)\n",
    "\n",
    "    def pop_q(self):\n",
    "        item = self.a_queue.pop(0)  # always pop out the first in queue\n",
    "        print(\"You just popped out: \", item)\n",
    "    \n",
    "# queue = Queue_class()\n",
    "    \n",
    "def run_menu():\n",
    "    queue = Queue_class()\n",
    "    \n",
    "    while True:    \n",
    "        print(\"\")\n",
    "        print(\"Python Implementation of a Queue\")\n",
    "        print(\"********************************\")\n",
    "        print(\"1. View Queue\")\n",
    "        print(\"2. Push onto Queue\")\n",
    "        print(\"3. Pop out of Queue\")\n",
    "        print(\"********************************\")\n",
    "        print(\"\")\n",
    "        menu_choice = int(input('Please enter your menu choice: '))\n",
    "        print(\"\")\n",
    "        print(\"\")\n",
    "\n",
    "        if menu_choice == 1:\n",
    "            queue.view_q()\n",
    "        elif menu_choice == 2:\n",
    "            queue.push_q()\n",
    "        elif menu_choice == 3:\n",
    "            queue.pop_q()\n",
    "        else:\n",
    "            print('exit')\n",
    "            break\n",
    "    \n",
    "    "
   ]
  },
  {
   "cell_type": "code",
   "execution_count": 14,
   "metadata": {},
   "outputs": [
    {
     "name": "stdout",
     "output_type": "stream",
     "text": [
      "\n",
      "Python Implementation of a Queue\n",
      "********************************\n",
      "1. View Queue\n",
      "2. Push onto Queue\n",
      "3. Pop out of Queue\n",
      "********************************\n",
      "\n",
      "Please enter your menu choice: 1\n",
      "\n",
      "\n",
      "Wake up\n",
      "Have a cup of coffee\n",
      "Have a shower\n",
      "Get dressed\n",
      "Have breakfast\n",
      "Go to work\n",
      "\n",
      "Python Implementation of a Queue\n",
      "********************************\n",
      "1. View Queue\n",
      "2. Push onto Queue\n",
      "3. Pop out of Queue\n",
      "********************************\n",
      "\n",
      "Please enter your menu choice: 6\n",
      "\n",
      "\n",
      "exit\n"
     ]
    }
   ],
   "source": [
    "run_menu()"
   ]
  },
  {
   "cell_type": "code",
   "execution_count": null,
   "metadata": {},
   "outputs": [],
   "source": []
  }
 ],
 "metadata": {
  "kernelspec": {
   "display_name": "Python 3",
   "language": "python",
   "name": "python3"
  },
  "language_info": {
   "codemirror_mode": {
    "name": "ipython",
    "version": 3
   },
   "file_extension": ".py",
   "mimetype": "text/x-python",
   "name": "python",
   "nbconvert_exporter": "python",
   "pygments_lexer": "ipython3",
   "version": "3.7.4"
  }
 },
 "nbformat": 4,
 "nbformat_minor": 4
}
