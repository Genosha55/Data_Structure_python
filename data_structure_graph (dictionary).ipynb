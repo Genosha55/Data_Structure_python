{
 "cells": [
  {
   "cell_type": "code",
   "execution_count": 2,
   "metadata": {},
   "outputs": [],
   "source": [
    "class Graph:\n",
    "    def __init__(self, input_file):\n",
    "        with open(input_file) as file:\n",
    "            self._graph = {}\n",
    "            for line in file:\n",
    "                (from_v, to_v) = tuple(number for number in line.split())\n",
    "                self._add_edge_to_graph(int(from_v),int(to_v))\n",
    "\n",
    "    def _add_edge_to_graph(self,from_v,to_v):\n",
    "        if from_v in self._graph:\n",
    "            self._graph[from_v].append(to_v)\n",
    "        else:\n",
    "            self._graph[from_v] = [to_v]\n",
    "            \n",
    "        if to_v in self._graph: # add the reversed graph in the dictionary, access by condtion the value as negative value\n",
    "            self._graph[to_v].append(-from_v)\n",
    "        else:\n",
    "            self._graph[to_v] = [-from_v]\n",
    "            \n",
    "    def view_graph(self):\n",
    "        return self._graph\n",
    "\n",
    "    \n",
    "    "
   ]
  },
  {
   "cell_type": "code",
   "execution_count": 3,
   "metadata": {},
   "outputs": [
    {
     "name": "stdout",
     "output_type": "stream",
     "text": [
      "{1: [3, -5], 3: [-1, 5], 5: [-3, 1, -6], 6: [5, 7, -9], 7: [-6, 9], 9: [-7, 6, -10], 10: [9, 15, -11], 15: [-10, 11], 11: [10, -15]}\n"
     ]
    }
   ],
   "source": [
    "data = Graph('SCC_test_example (disconnect).txt')\n",
    "print(data.view_graph())"
   ]
  },
  {
   "cell_type": "code",
   "execution_count": null,
   "metadata": {},
   "outputs": [],
   "source": [
    "# using a dictionary to store the graph (forward and tranposed);\n",
    "# key as the start vertex in an edge, value as a list of ending nodes in an edge (positive as forward graph, negative as transposed graph)"
   ]
  },
  {
   "cell_type": "code",
   "execution_count": null,
   "metadata": {},
   "outputs": [],
   "source": []
  },
  {
   "cell_type": "code",
   "execution_count": null,
   "metadata": {},
   "outputs": [],
   "source": []
  },
  {
   "cell_type": "code",
   "execution_count": 1,
   "metadata": {},
   "outputs": [
    {
     "name": "stdout",
     "output_type": "stream",
     "text": [
      "('1', '3')\n",
      "('3', '5')\n",
      "('5', '1')\n",
      "('6', '5')\n",
      "('6', '7')\n",
      "('7', '9')\n",
      "('9', '6')\n",
      "('10', '9')\n",
      "('10', '15')\n",
      "('11', '10')\n",
      "('15', '11')\n"
     ]
    }
   ],
   "source": [
    "with open('SCC_test_example (disconnect).txt') as file:\n",
    "    for line in file:\n",
    "        (from_v, to_v) = tuple(number for number in line.split())\n",
    "        print((from_v, to_v))"
   ]
  },
  {
   "cell_type": "code",
   "execution_count": 4,
   "metadata": {},
   "outputs": [
    {
     "name": "stdout",
     "output_type": "stream",
     "text": [
      "False\n"
     ]
    }
   ],
   "source": [
    "a = {2:[3,4]}\n",
    "print(3 in a)"
   ]
  },
  {
   "cell_type": "code",
   "execution_count": 5,
   "metadata": {},
   "outputs": [
    {
     "name": "stdout",
     "output_type": "stream",
     "text": [
      "True\n"
     ]
    }
   ],
   "source": [
    "a = {2:[3,4]}\n",
    "print(2 in a)"
   ]
  },
  {
   "cell_type": "code",
   "execution_count": null,
   "metadata": {},
   "outputs": [],
   "source": []
  }
 ],
 "metadata": {
  "kernelspec": {
   "display_name": "Python 3",
   "language": "python",
   "name": "python3"
  },
  "language_info": {
   "codemirror_mode": {
    "name": "ipython",
    "version": 3
   },
   "file_extension": ".py",
   "mimetype": "text/x-python",
   "name": "python",
   "nbconvert_exporter": "python",
   "pygments_lexer": "ipython3",
   "version": "3.8.3"
  }
 },
 "nbformat": 4,
 "nbformat_minor": 4
}
