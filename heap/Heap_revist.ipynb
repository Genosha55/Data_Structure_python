{
 "cells": [
  {
   "cell_type": "code",
   "execution_count": 1,
   "metadata": {},
   "outputs": [],
   "source": [
    "# canonical use of heap: fast way to do repeated minimum computations"
   ]
  },
  {
   "cell_type": "code",
   "execution_count": 2,
   "metadata": {},
   "outputs": [],
   "source": [
    "## Example1: SelectionSort: sort the unsorted array from smallest to largest O(n^2) for brutal \n",
    "            # n(log(n)) as to heapify the array then take the smallest, and repeat heapify (2n * a heapify (log(n)))"
   ]
  },
  {
   "cell_type": "code",
   "execution_count": 29,
   "metadata": {},
   "outputs": [],
   "source": [
    "class MinIntHeap:    \n",
    "    def __init__(self):\n",
    "        self.heap = []\n",
    "        self.sorted = []\n",
    "        \n",
    "    @staticmethod\n",
    "    def swap(a,b):\n",
    "        c = a\n",
    "        a = b\n",
    "        b = c\n",
    "        return a,b\n",
    "    \n",
    "    @staticmethod\n",
    "    def find_p_index(index):\n",
    "        if not index%2:\n",
    "            p_index = (index-2)//2\n",
    "        elif index%2:\n",
    "            p_index = (index-1)//2\n",
    "        return p_index\n",
    "    \n",
    "    @staticmethod\n",
    "    def find_ch_index(index):\n",
    "        l_child = 2*index+1\n",
    "        r_child = 2*index+2\n",
    "        return l_child, r_child\n",
    "        \n",
    "    \n",
    "    def is_heap(self, a_list):\n",
    "        for index in reversed(range(len(a_list))):\n",
    "            if not index:\n",
    "                pass\n",
    "            else:            \n",
    "                p_item = a_list[self.find_p_index(index)]\n",
    "                if p_item > a_list[index]:\n",
    "                    return False\n",
    "        return True\n",
    "    \n",
    "    def valid_position(self, index, p_index): # in use\n",
    "        item  = self.heap[index]\n",
    "        p_item = self.heap[p_index]\n",
    "        if p_item > item:\n",
    "            return False\n",
    "        else:\n",
    "            return True\n",
    "        \n",
    "    def _shiftup(self, item_index): # shift_up one level!\n",
    "        if not item_index:\n",
    "            return\n",
    "        else:  \n",
    "            p_index = self.find_p_index(item_index)\n",
    "\n",
    "            if not self.valid_position(item_index, p_index):\n",
    "                self.heap[p_index],self.heap[item_index] = self.swap(self.heap[p_index],self.heap[item_index])\n",
    "                self._shiftup(p_index)            \n",
    "        return \n",
    "            \n",
    "    def _shiftdown(self, item_index): # in use        \n",
    "        length_of_heap = len(self.heap)\n",
    "#         self.heap.extend([9999999] * 2*length_of_heap) # double the length        \n",
    "      \n",
    "        l_child, r_child = self.find_ch_index(item_index)\n",
    "        if l_child > length_of_heap-1:\n",
    "            return\n",
    "        elif r_child > length_of_heap-1:\n",
    "            smaller_child_index = l_child\n",
    "        else:\n",
    "            if self.heap[l_child] < self.heap[r_child]:\n",
    "                smaller_child_index = l_child\n",
    "            else:\n",
    "                smaller_child_index = r_child\n",
    "\n",
    "        if not self.valid_position(smaller_child_index,item_index):\n",
    "            self.heap[item_index],self.heap[smaller_child_index] = self.swap(self.heap[item_index],self.heap[smaller_child_index])\n",
    "            self._shiftdown(smaller_child_index) \n",
    "        return            \n",
    "        \n",
    "    def heapify(self,a_list):  # start from n/2 to 1 !! updated?\n",
    "        self.heap = a_list\n",
    "        \n",
    "        for index in reversed(range(len(a_list))):\n",
    "            if index:\n",
    "                self._shiftup(index)\n",
    "                self._shiftdown(index)\n",
    "        return         \n",
    "             \n",
    "    def init_heapify(self, a_list):\n",
    "        if not self.is_heap(a_list):\n",
    "            self.heapify(a_list)\n",
    "    \n",
    "    def heappop(self,a_list):  # pop the smallest item from heap\n",
    "        self.init_heapify(a_list)        \n",
    "            \n",
    "        result = a_list[0]\n",
    "        a_list[0] = a_list[-1]\n",
    "        a_list.pop(-1)\n",
    "        self._shiftdown(0) \n",
    "            \n",
    "        return result\n",
    "    \n",
    "    def heappush(self, a_list, item):  # push a new item on the heap (from bottom position)\n",
    "        self.init_heapify(a_list)\n",
    "        \n",
    "        a_list.append(item)\n",
    "        self._shiftup(len(a_list)-1)\n",
    "    \n",
    "    def heappushpop(self, a_list, item):  # add new item then pop the samllest\n",
    "        self.init_heapify(a_list)\n",
    "        \n",
    "        a_list.append(item)\n",
    "        self._shiftup(len(a_list)-1)\n",
    "        result = a_list[0]\n",
    "        a_list[0] = a_list[-1]\n",
    "        a_list.pop(-1)\n",
    "        self._shiftdown(0)\n",
    "        return result\n",
    "    \n",
    "    def heapreplace(self, a_list, item):  # pop the current smallest item and add new item\n",
    "        self.init_heapify(a_list)\n",
    "        \n",
    "        result = a_list[0]\n",
    "        a_list[0] = a_list[-1]\n",
    "        a_list.pop(-1)\n",
    "        self._shiftdown(0)\n",
    "        a_list.append(item)\n",
    "        self._shiftup(len(a_list)-1)        \n",
    "        return result\n",
    "    \n",
    "    def heapview(self, a_list):\n",
    "        self.heapify(a_list)\n",
    "        return a_list[0]\n",
    "    \n",
    "    # heap_sort: swap the top with last element, remove last element(smallest), shiftdown the top to heapify, then repeat\n",
    "    def sort(self, a_list):\n",
    "        self.init_heapify(a_list)\n",
    "        self.sort = []        \n",
    "        self._sort()\n",
    "        return self.sorted        \n",
    "        \n",
    "    def _sort(self):\n",
    "        if len(self.heap) == 0:\n",
    "            return\n",
    "        else:\n",
    "            self.heap[0],self.heap[-1] = self.swap(self.heap[0],self.heap[-1])\n",
    "            self.sorted.append(self.heap[-1])\n",
    "            self.heap.pop(-1)\n",
    "            self._shiftdown(0)\n",
    "            self._sort()\n",
    "        return\n",
    "        \n",
    "    "
   ]
  },
  {
   "cell_type": "code",
   "execution_count": 30,
   "metadata": {},
   "outputs": [],
   "source": [
    "a = [6,7,9,4,3,5,8,10,1]\n",
    "b = MinIntHeap()\n",
    "# b.heapify(a)\n",
    "# print(a)"
   ]
  },
  {
   "cell_type": "code",
   "execution_count": 31,
   "metadata": {},
   "outputs": [
    {
     "data": {
      "text/plain": [
       "[1, 3, 4, 5, 6, 7, 8, 9, 10]"
      ]
     },
     "execution_count": 31,
     "metadata": {},
     "output_type": "execute_result"
    }
   ],
   "source": [
    "b.sort(a)"
   ]
  },
  {
   "cell_type": "code",
   "execution_count": null,
   "metadata": {},
   "outputs": [],
   "source": []
  },
  {
   "cell_type": "code",
   "execution_count": null,
   "metadata": {},
   "outputs": [],
   "source": []
  },
  {
   "cell_type": "code",
   "execution_count": null,
   "metadata": {},
   "outputs": [],
   "source": []
  },
  {
   "cell_type": "code",
   "execution_count": null,
   "metadata": {},
   "outputs": [],
   "source": []
  },
  {
   "cell_type": "code",
   "execution_count": null,
   "metadata": {},
   "outputs": [],
   "source": []
  },
  {
   "cell_type": "markdown",
   "metadata": {},
   "source": [
    "+++++++++++++++++++++++++++++++++++++++++++++++++++++++++++++++++++++++"
   ]
  },
  {
   "cell_type": "code",
   "execution_count": 3,
   "metadata": {},
   "outputs": [],
   "source": [
    "## Example2: Event Manager (Priority Queue): simulation (e.g. for a video game)\n",
    "    # -objects = event records [action/update to occur at a given time in the future]\n",
    "    # -key = time event scheduled to occur\n",
    "    # -Extract-Min => yields the next scheduled event "
   ]
  },
  {
   "cell_type": "code",
   "execution_count": null,
   "metadata": {},
   "outputs": [],
   "source": []
  },
  {
   "cell_type": "code",
   "execution_count": null,
   "metadata": {},
   "outputs": [],
   "source": []
  },
  {
   "cell_type": "code",
   "execution_count": null,
   "metadata": {},
   "outputs": [],
   "source": []
  },
  {
   "cell_type": "code",
   "execution_count": null,
   "metadata": {},
   "outputs": [],
   "source": []
  },
  {
   "cell_type": "code",
   "execution_count": null,
   "metadata": {},
   "outputs": [],
   "source": []
  },
  {
   "cell_type": "code",
   "execution_count": null,
   "metadata": {},
   "outputs": [],
   "source": []
  },
  {
   "cell_type": "code",
   "execution_count": null,
   "metadata": {},
   "outputs": [],
   "source": []
  },
  {
   "cell_type": "code",
   "execution_count": null,
   "metadata": {},
   "outputs": [],
   "source": []
  },
  {
   "cell_type": "code",
   "execution_count": null,
   "metadata": {},
   "outputs": [],
   "source": []
  },
  {
   "cell_type": "code",
   "execution_count": null,
   "metadata": {},
   "outputs": [],
   "source": []
  },
  {
   "cell_type": "markdown",
   "metadata": {},
   "source": [
    "++++++++++++++++++++++++++++++++++++++++++++++++++++++++++++"
   ]
  },
  {
   "cell_type": "code",
   "execution_count": 4,
   "metadata": {},
   "outputs": [],
   "source": [
    "## Example3: Median Manienence: Given a sequence x1,...xn of numbers, one-by-one\n",
    "            # required: at each time step i, the median of {x1,...xi}\n",
    "            # constraint: use O(log(i)) time at each step i\n",
    "            # use two heap (low, high half) maintain invariant that ~i/2 smallest(largest) elements in Hlow(Hhigh)\n",
    "            \n",
    "            # to check: 1. can maintain invariant with O(log(i)) work 2. given invariant, can compute median in O(log(i)) work\n",
    "            # rebalancing: extract and insert to balance number in the two half, median depend on if i is an odd or even number "
   ]
  },
  {
   "cell_type": "code",
   "execution_count": null,
   "metadata": {},
   "outputs": [],
   "source": []
  },
  {
   "cell_type": "code",
   "execution_count": null,
   "metadata": {},
   "outputs": [],
   "source": []
  },
  {
   "cell_type": "code",
   "execution_count": null,
   "metadata": {},
   "outputs": [],
   "source": []
  },
  {
   "cell_type": "code",
   "execution_count": null,
   "metadata": {},
   "outputs": [],
   "source": []
  },
  {
   "cell_type": "code",
   "execution_count": null,
   "metadata": {},
   "outputs": [],
   "source": []
  },
  {
   "cell_type": "code",
   "execution_count": null,
   "metadata": {},
   "outputs": [],
   "source": []
  },
  {
   "cell_type": "markdown",
   "metadata": {},
   "source": [
    "+++++++++++++++++++++++++++++++++++++++++++++++++++++"
   ]
  },
  {
   "cell_type": "code",
   "execution_count": null,
   "metadata": {},
   "outputs": [],
   "source": [
    "## Example4: Speed up Dijkstra: naive implement => runtime = O(nm) as n loop for n vertices and m work per iteration for edges for minimum\n",
    "                # with heap => runtime = O(mlog(n))"
   ]
  },
  {
   "cell_type": "code",
   "execution_count": null,
   "metadata": {},
   "outputs": [],
   "source": []
  },
  {
   "cell_type": "code",
   "execution_count": null,
   "metadata": {},
   "outputs": [],
   "source": []
  },
  {
   "cell_type": "code",
   "execution_count": null,
   "metadata": {},
   "outputs": [],
   "source": []
  },
  {
   "cell_type": "code",
   "execution_count": 12,
   "metadata": {},
   "outputs": [
    {
     "name": "stdout",
     "output_type": "stream",
     "text": [
      "4\n",
      "3\n",
      "2\n",
      "1\n",
      "0\n"
     ]
    }
   ],
   "source": [
    "for i in reversed(range(5)):\n",
    "    print(i)"
   ]
  },
  {
   "cell_type": "code",
   "execution_count": null,
   "metadata": {},
   "outputs": [],
   "source": []
  }
 ],
 "metadata": {
  "kernelspec": {
   "display_name": "Python 3",
   "language": "python",
   "name": "python3"
  },
  "language_info": {
   "codemirror_mode": {
    "name": "ipython",
    "version": 3
   },
   "file_extension": ".py",
   "mimetype": "text/x-python",
   "name": "python",
   "nbconvert_exporter": "python",
   "pygments_lexer": "ipython3",
   "version": "3.7.6"
  }
 },
 "nbformat": 4,
 "nbformat_minor": 4
}
